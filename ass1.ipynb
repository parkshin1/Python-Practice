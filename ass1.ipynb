{
 "cells": [
  {
   "cell_type": "markdown",
   "metadata": {},
   "source": [
    "Python: without numpy or sklearn"
   ]
  },
  {
   "cell_type": "markdown",
   "metadata": {},
   "source": [
    "Q1: Given two matrices please print the product of those two matrices"
   ]
  },
  {
   "cell_type": "code",
   "execution_count": 20,
   "metadata": {},
   "outputs": [
    {
     "name": "stdout",
     "output_type": "stream",
     "text": [
      "[[1, 3, 4], [2, 5, 7], [5, 9, 6]]\n"
     ]
    }
   ],
   "source": [
    "#reference:-https://stackoverflow.com/questions/10508021/matrix-multiplication-in-pure-python\n",
    "def matrix_mul(A, B):\n",
    "    result=[[0 for row in range(len(B[0]))] for col in range(len(A))]\n",
    "    if len(A) != len(B):\n",
    "        print(\"Matrix multiplication of A & B is not possible\")\n",
    "        \n",
    "    else:\n",
    "        for i in range(len(A)):\n",
    "            for j in range(len(B[0])):\n",
    "                for k in range(len(B)):\n",
    "                    result[i][j] += A[i][k]*B[k][j]\n",
    "        print(result)\n",
    "\n",
    "A=[[1,3,4],[2,5,7],[5,9,6]]\n",
    "B=[[1,0,0],[0,1,0],[0,0,1]]\n",
    "matrix_mul(A,B)"
   ]
  },
  {
   "cell_type": "code",
   "execution_count": 32,
   "metadata": {},
   "outputs": [
    {
     "name": "stdout",
     "output_type": "stream",
     "text": [
      "Matrix multiplication of A & B is not possible\n"
     ]
    }
   ],
   "source": [
    "def matrix_mul(A, B):\n",
    "    result=[[0 for row in range(len(A))] for col in range(len(B[0]))]\n",
    "    if len(A) != len(B):\n",
    "        print(\"Matrix multiplication of A & B is not possible\")\n",
    "        \n",
    "    else:\n",
    "        for i in range(len(A)):\n",
    "            for j in range(len(B[0])):\n",
    "                for k in range(len(B)):\n",
    "                    result[i][j] += A[i][k]*B[k][j]\n",
    "        print(result)\n",
    "\n",
    "A=[[1,2],[3,4]]\n",
    "B=[[1,4],[5,6],[7,8],[9,6]]\n",
    "matrix_mul(A,B)"
   ]
  },
  {
   "cell_type": "markdown",
   "metadata": {},
   "source": [
    "Q2: Select a number randomly with probability proportional to its magnitude from the given array of n elements\n",
    "consider an experiment, selecting an element from the list A randomly with probability proportional to its magnitude. assume we are doing the same experiment for 100 times with replacement, in each experiment you will print a number that is selected randomly from A.\n",
    "Ex 1: A = [0 5 27 6 13 28 100 45 10 79]\n",
    "let f(x) denote the number of times x getting selected in 100 experiments.\n",
    "f(100) > f(79) > f(45) > f(28) > f(27) > f(13) > f(10) > f(6) > f(5) > f(0)"
   ]
  },
  {
   "cell_type": "code",
   "execution_count": 6,
   "metadata": {},
   "outputs": [
    {
     "name": "stdout",
     "output_type": "stream",
     "text": [
      "[100, 79, 27, 100, 100, 13, 100, 100, 100, 100, 27, 10, 100, 100, 13, 13, 100, 100, 79, 45, 45, 45, 45, 100, 45, 13, 45, 100, 28, 5, 100, 100, 28, 79, 79, 79, 79, 45, 79, 79, 100, 100, 5, 28, 100, 6, 45, 13, 79, 100, 79, 79, 79, 79, 100, 45, 100, 45, 6, 79, 45, 79, 45, 45, 79, 100, 100, 28, 100, 45, 27, 45, 100, 13, 100, 13, 79, 27, 45, 13, 10, 45, 100, 45, 45, 79, 28, 100, 100, 45, 45, 5, 45, 100, 45, 79, 28, 45, 79, 27]\n"
     ]
    }
   ],
   "source": [
    "#reference:-https://stackoverflow.com/questions/57162832/find-propotional-sampling-using-python\n",
    "import random\n",
    "from itertools import accumulate\n",
    "from bisect import bisect\n",
    "\n",
    "A = [0,5,27,6,13,28,100,45,10,79]\n",
    "\n",
    "def propotional_sampling(A, n=100):\n",
    "    # calculate cumulative sum from A:\n",
    "    cum_sum = [*accumulate(A)]\n",
    "    # cum_sum = [0, 5, 32, 38, 51, 79, 179, 224, 234, 313]\n",
    "\n",
    "    output = []\n",
    "    for _ in range(n):\n",
    "        i = random.random()                     # i = [0.0, 1.0)\n",
    "        idx = bisect(cum_sum, i*cum_sum[-1])    # get index to list A\n",
    "        output.append(A[idx])\n",
    "\n",
    "    return output\n",
    "\n",
    "print(propotional_sampling(A))"
   ]
  },
  {
   "cell_type": "markdown",
   "metadata": {},
   "source": [
    "Q3: Replace the digits in the string with #\n",
    "Consider a string that will have digits in that, we need to remove all the characters which are not digits and replace the digits with #\n",
    "Ex 1: A = 234                Output: ###\n",
    "Ex 2: A = a2b3c4             Output: ###\n",
    "Ex 3: A = abc                Output:   (empty string)\n",
    "Ex 5: A = #2a$#b%c%561#      Output: ####"
   ]
  },
  {
   "cell_type": "code",
   "execution_count": 35,
   "metadata": {},
   "outputs": [
    {
     "name": "stdout",
     "output_type": "stream",
     "text": [
      "Pls enter your string: #2a$#b%c%561#\n",
      "####\n"
     ]
    }
   ],
   "source": [
    "#reference:-https://stackoverflow.com/questions/57007469/is-there-a-regex-to-replace-the-digits-in-the-string-with-and-remove-all-the\n",
    "def digit_remove(string):\n",
    "    new_string='#' * len ([x for x in string1 if x.isdigit()])\n",
    "    print(new_string)\n",
    "string1=input(\"Pls enter your string: \")\n",
    "digit_remove(string1)"
   ]
  },
  {
   "cell_type": "code",
   "execution_count": 36,
   "metadata": {},
   "outputs": [
    {
     "name": "stdout",
     "output_type": "stream",
     "text": [
      "Pls enter your string: 234\n",
      "###\n"
     ]
    }
   ],
   "source": [
    "def digit_remove(string):\n",
    "    new_string='#' * len ([x for x in string1 if x.isdigit()])\n",
    "    print(new_string)\n",
    "string1=input(\"Pls enter your string: \")\n",
    "digit_remove(string1)"
   ]
  },
  {
   "cell_type": "code",
   "execution_count": 37,
   "metadata": {},
   "outputs": [
    {
     "name": "stdout",
     "output_type": "stream",
     "text": [
      "Pls enter your string: a2b3c4\n",
      "###\n"
     ]
    }
   ],
   "source": [
    "def digit_remove(string):\n",
    "    new_string='#' * len ([x for x in string1 if x.isdigit()])\n",
    "    print(new_string)\n",
    "string1=input(\"Pls enter your string: \")\n",
    "digit_remove(string1)"
   ]
  },
  {
   "cell_type": "code",
   "execution_count": 39,
   "metadata": {},
   "outputs": [
    {
     "name": "stdout",
     "output_type": "stream",
     "text": [
      "Pls enter your string: abc\n",
      "\n"
     ]
    }
   ],
   "source": [
    "def digit_remove(string):\n",
    "    new_string='#' * len ([x for x in string1 if x.isdigit()])\n",
    "    print(new_string)\n",
    "string1=input(\"Pls enter your string: \")\n",
    "digit_remove(string1)"
   ]
  },
  {
   "cell_type": "markdown",
   "metadata": {},
   "source": [
    "Q4: Students marks dashboard\n",
    "Consider the marks list of class students given in two lists \n",
    "Students = ['student1','student2','student3','student4','student5','student6','student7','student8','student9','student10'] \n",
    "Marks = [45, 78, 12, 14, 48, 43, 45, 98, 35, 80] \n",
    "from the above two lists the Student[0] got Marks[0], Student[1] got Marks[1] and so on. \n",
    "\n",
    "Your task is to print the name of students\n",
    "a. Who got top 5 ranks, in the descending order of marks \n",
    "b. Who got least 5 ranks, in the increasing order of marks\n",
    "d. Who got marks between >25th percentile <75th percentile, in the increasing order of marks.\n",
    "Ex 1: \n",
    "Students=['student1','student2','student3','student4','student5','student6','student7','student8','student9','student10'] \n",
    "Marks = [45, 78, 12, 14, 48, 43, 47, 98, 35, 80]\n",
    "\n",
    "a. \n",
    "student8  98\n",
    "student10 80\n",
    "student2  78\n",
    "student5  48\n",
    "student7  47\n",
    "\n",
    "b.\n",
    "student3 12\n",
    "student4 14\n",
    "student9 35\n",
    "student6 43\n",
    "student1 45\n",
    "\n",
    "c.\n",
    "student9 35\n",
    "student6 43\n",
    "student1 45\n",
    "student7 47\n",
    "student5 48"
   ]
  },
  {
   "cell_type": "code",
   "execution_count": 1,
   "metadata": {
    "scrolled": true
   },
   "outputs": [
    {
     "name": "stdout",
     "output_type": "stream",
     "text": [
      "Top 5 Students Marks are: \n",
      "student8 98\n",
      "student10 80\n",
      "student2 78\n",
      "student5 48\n",
      "student7 47\n",
      "Bottom 5 Students Marks are: \n",
      "student3 12\n",
      "student4 14\n",
      "student9 35\n",
      "student6 43\n",
      "student1 45\n",
      "2\n",
      "8\n",
      "Student Who got marks between >25th percentile <75th percentile:\n",
      "student9 35\n",
      "student6 43\n",
      "student1 45\n",
      "student7 47\n",
      "student5 48\n"
     ]
    }
   ],
   "source": [
    "Marks = [45, 78, 12, 14, 48, 43, 47, 98, 35, 80]\n",
    "Students=['student1','student2','student3','student4','student5','student6','student7','student8','student9','student10']\n",
    "#Sorted list in discending order\n",
    "D_one=sorted(Marks,reverse=True)\n",
    "#Sorted list in ascending order\n",
    "A_one=sorted(Marks)\n",
    "\n",
    "#To get Top 5 marks of students\n",
    "one1=D_one[:5]\n",
    "#To get bottom 5 marks of students\n",
    "one2=A_one[:5]\n",
    "Top5I=[]\n",
    "Bottom5I=[]\n",
    "\n",
    "#To get index of Top 5 marks student\n",
    "for i in one1:\n",
    "    Top5I.append(Marks.index(i))\n",
    "print(\"Top 5 Students Marks are: \")\n",
    "for i in Top5I:\n",
    "    print(Students[i],Marks[i])\n",
    "#To get index of Bottom 5 marks students\n",
    "for i in one2:\n",
    "    Bottom5I.append(Marks.index(i))\n",
    "print(\"Bottom 5 Students Marks are: \")\n",
    "for i in Bottom5I:\n",
    "    print(Students[i],Marks[i])\n",
    "    \n",
    "#Code to calculate no of rank of 25th & 75th percentile\n",
    "R1=round(25/100*len(A_one))\n",
    "print(R1)\n",
    "R2=round(75/100*len(A_one))\n",
    "print(R2)\n",
    "\n",
    "#To get marks betn 25th & 75th percentile\n",
    "per=A_one[R1:(R2-1)]\n",
    "\n",
    "stud_name=[]\n",
    "for i in per:\n",
    "    stud_name.append(Marks.index(i))\n",
    "print(\"Student Who got marks between >25th percentile <75th percentile:\")\n",
    "for i in stud_name:\n",
    "    print(Students[i],Marks[i])"
   ]
  },
  {
   "cell_type": "markdown",
   "metadata": {},
   "source": [
    "Q5: Find the closest points\n",
    "Consider you are given n data points in the form of list of tuples like S=[(x1,y1),(x2,y2),(x3,y3),(x4,y4),(x5,y5),..,(xn,yn)] and a point P=(p,q) \n",
    "your task is to find 5 closest points(based on cosine distance) in S from P\n",
    "\n",
    "Ex:\n",
    "\n",
    "S= [(1,2),(3,4),(-1,1),(6,-7),(0, 6),(-5,-8),(-1,-1)(6,0),(1,-1)]\n",
    "P= (3,-4)\n",
    "\n",
    "Output:\n",
    "(6,-7)\n",
    "(1,-1)\n",
    "(6,0)\n",
    "(-5,-8)\n",
    "(-1,-1)"
   ]
  },
  {
   "cell_type": "code",
   "execution_count": 8,
   "metadata": {},
   "outputs": [
    {
     "name": "stdout",
     "output_type": "stream",
     "text": [
      "[2.0344439357957027, 1.8545904360032246, 2.9996955989856287, 0.06512516333438509, 2.498091544796509, 1.2021004241368467, 1.4288992721907328, 0.9272952180016123, 0.14189705460416438]\n",
      "Closest 5 points from point P: \n",
      "(6, -7)\n",
      "(1, -1)\n",
      "(6, 0)\n",
      "(-5, -8)\n",
      "(-1, -1)\n"
     ]
    }
   ],
   "source": [
    "#Find out closest points\n",
    "S = [(1,2),(3,4),(-1,1),(6,-7),(0, 6),(-5,-8),(-1,-1),(6,0),(1,-1)]\n",
    "T = (3,-4)\n",
    "P=list(T)\n",
    "\n",
    "#To get 0th elements of tuple\n",
    "x=[tup[0] for tup in S]\n",
    "#To get 1st element of tuple\n",
    "y=[tup[1] for tup in S]\n",
    "\n",
    "import math\n",
    "dist=[]\n",
    "for (i, j) in zip(x, y):\n",
    "    dist.append(math.acos((((i)*P[0])+((j)*P[1]))/((math.sqrt(((i)*(i))+((j)*(j))))*(math.sqrt((P[0]*P[0])+(P[1]*P[1]))))))\n",
    "print(dist)\n",
    "    \n",
    "dist1=sorted(dist)\n",
    "clost5=dist1[:5]\n",
    "c5=[]\n",
    "for i in clost5:\n",
    "    c5.append(dist.index(i))\n",
    "    \n",
    "\n",
    "print(\"Closest 5 points from point P: \")\n",
    "for i in c5:\n",
    "    print(S[i])"
   ]
  },
  {
   "cell_type": "markdown",
   "metadata": {},
   "source": [
    "Q6: Find which line separates oranges and apples\n",
    "Consider you are given two set of data points in the form of list of tuples like \n",
    "Red =[(R11,R12),(R21,R22),(R31,R32),(R41,R42),(R51,R52),..,(Rn1,Rn2)]\n",
    "Blue=[(B11,B12),(B21,B22),(B31,B32),(B41,B42),(B51,B52),..,(Bm1,Bm2)]\n",
    "and set of line equations(in the string format, i.e list of strings)\n",
    "Lines = [a1x+b1y+c1,a2x+b2y+c2,a3x+b3y+c3,a4x+b4y+c4,..,K lines]\n",
    "Note: You need to do string parsing here and get the coefficients of x,y and intercept.\n",
    "Your task here is to print \"YES\"/\"NO\" for each line given. You should print YES, if all the red points are one side of the line and blue points are on other side of the line, otherwise you should print NO.\n",
    "Ex:\n",
    "Red= [(1,1),(2,1),(4,2),(2,4), (-1,4)]\n",
    "Blue= [(-2,-1),(-1,-2),(-3,-2),(-3,-1),(1,-3)]\n",
    "Lines=[\"1x+1y+0\",\"1x-1y+0\",\"1x+0y-3\",\"0x+1y-0.5\"]"
   ]
  },
  {
   "cell_type": "code",
   "execution_count": 11,
   "metadata": {},
   "outputs": [
    {
     "name": "stdout",
     "output_type": "stream",
     "text": [
      "Yes\n",
      "No\n",
      "No\n",
      "Yes\n"
     ]
    }
   ],
   "source": [
    "#Line seperation\n",
    "Red= [(1,1),(2,1),(4,2),(2,4), (-1,4)]\n",
    "Blue= [(-2,-1),(-1,-2),(-3,-2),(-3,-1),(1,-3)]\n",
    "Lines=[\"1x+1y+0\",\"1x-1y+0\",\"1x+0y-3\",\"0x+1y-0.5\"]\n",
    "#import math\n",
    "def check(list1, val): \n",
    "    return(all(x > val for x in list1))\n",
    "def check1(list1, val): \n",
    "    return(all(x < val for x in list1))\n",
    "import re\n",
    "for (R, B) in zip(Red, Blue):\n",
    "    #To get 0st element of tuples in list Red\n",
    "    x1=[int(R[0]) for R in Red]\n",
    "    #print(x1)\n",
    "    #To get 1st element of tuples in list Red\n",
    "    y1=[int(R[1]) for R in Red]\n",
    "    #print(y1)\n",
    "    #To get 0th elements of tuples in list Blue\n",
    "    x2=[int(B[0]) for B in Blue]\n",
    "    #print(x2)\n",
    "    #To get 1st element of tuples in list Blue\n",
    "    y2=[int(B[1]) for B in Blue]\n",
    "    #print(y2)\n",
    "for line in Lines:\n",
    "    z=re.findall(r'[\\d\\.\\-\\+]+', line)\n",
    "    #print(z)\n",
    "   \n",
    "    Red_P=[]\n",
    "    Blue_P=[]\n",
    "    F1=''\n",
    "    F2=''\n",
    "    for i, j in zip(x1,y1):\n",
    "        Red_P.append(float(z[0])*i + float(z[1])*j + float(z[2]))\n",
    "    #print(Red_P)\n",
    "    if(check(Red_P, 0)):\n",
    "        F1=\"Yes\"\n",
    "    else:\n",
    "        F1=\"No\"\n",
    "    \n",
    "    for k, l in zip(x2,y2):\n",
    "        Blue_P.append(float(z[0])*k + float(z[1])*l + float(z[2]))\n",
    "    #print(Blue_P)\n",
    "    if(check1(Blue_P, 0)):\n",
    "        F2=\"Yes\"\n",
    "    else:\n",
    "        F2=\"No\"\n",
    "    if F1 == \"Yes\" and F2 ==\"Yes\":\n",
    "        print(\"Yes\")\n",
    "    else:\n",
    "        print(\"No\")"
   ]
  },
  {
   "cell_type": "markdown",
   "metadata": {},
   "source": [
    "Q7: Filling the missing values in the specified format\n",
    "You will be given a string with digits and '_'(missing value) symbols you have to replace the '_' symbols as explained \n",
    "Ex 1: _, _, _, 24 ==> 24/4, 24/4, 24/4, 24/4 i.e we. have distributed the 24 equally to all 4 places \n",
    "\n",
    "Ex 2: 40, _, _, _, 60 ==> (60+40)/5,(60+40)/5,(60+40)/5,(60+40)/5,(60+40)/5 ==> 20, 20, 20, 20, 20 i.e. the sum of (60+40) is distributed qually to all 5 places\n",
    "\n",
    "Ex 3: 80, _, _, _, _  ==> 80/5,80/5,80/5,80/5,80/5 ==> 16, 16, 16, 16, 16 i.e. the 80 is distributed qually to all 5 missing values that are right to it\n",
    "\n",
    "Ex 4: _, _, 30, _, _, _, 50, _, _  \n",
    "==> we will fill the missing values from left to right \n",
    "    a. first we will distribute the 30 to left two missing values (10, 10, 10, _, _, _, 50, _, _)\n",
    "    b. now distribute the sum (10+50) missing values in between (10, 10, 12, 12, 12, 12, 12, _, _) \n",
    "    c. now we will distribute 12 to right side missing values (10, 10, 12, 12, 12, 12, 4, 4, 4)\n",
    "for a given string with comma seprate values, which will have both missing values numbers like ex: \"_, _, x, _, _, _\" you need fill the missing values\n",
    "Q: your program reads a string like ex: \"_, _, x, _, _, _\" and returns the filled sequence\n",
    "Ex:\n",
    "\n",
    "\n",
    "Input1: \"_,_,_,24\"\n",
    "Output1: 6,6,6,6\n",
    "\n",
    "Input2: \"40,_,_,_,60\"\n",
    "Output2: 20,20,20,20,20\n",
    "\n",
    "Input3: \"80,_,_,_,_\"\n",
    "Output3: 16,16,16,16,16\n",
    "\n",
    "Input4: \"_,_,30,_,_,_,50,_,_\"\n",
    "Output4: 10,10,12,12,12,12,4,4,4"
   ]
  },
  {
   "cell_type": "code",
   "execution_count": 19,
   "metadata": {},
   "outputs": [
    {
     "name": "stdout",
     "output_type": "stream",
     "text": [
      "['6.0', '6.0', '6.0', '6.0']\n",
      "flag value found  60.0\n",
      "['20.0', '20.0', '20.0', '20.0', '20.0']\n",
      "['16.0', '16.0', '16.0', '16.0', '16.0']\n",
      "flag value found  50.0\n",
      "['10.0', '10.0', '12.0', '12.0', '12.0', '12.0', '4.0', '4.0', '4.0']\n"
     ]
    }
   ],
   "source": [
    "#reference:-https://stackoverflow.com/questions/57179618/filling-the-missing-values-in-the-specified-format-python\n",
    "def blanks(S):\n",
    "    a = S.split(',')\n",
    "    #print(\"a : \" ,a)\n",
    "    count = 0\n",
    "    middle_store = 0\n",
    "    # left\n",
    "    for i in range(len(a)):\n",
    "      \n",
    "        if a[i] == '_':\n",
    "            count = count + 1  # find number of blanks to the left of a number\n",
    "        else:\n",
    "            for j in range(i + 1):\n",
    "                # if there are n blanks to the left of the number speard the number equal over n+1 spaces\n",
    "                #print(\"float(a[i]:\" , float(a[i]))\n",
    "                #print(\"count :\" , count)\n",
    "                a[j] = str((float(a[i]) / (count + 1)))\n",
    "            middle_store = i\n",
    "            #print(\"a[j]:\" , a[j])\n",
    "            middle_store_value = float(a[i])\n",
    "            #print(\"middle_store:\" , middle_store)\n",
    "            #print(\"middle_store_value:\" , middle_store_value)\n",
    "            break\n",
    "      \n",
    "    #print(\"len(a):\" , len(a))\n",
    "    #print(\"middle_store\" , middle_store)\n",
    "    if(len(a)-1==middle_store):\n",
    "        #print(\"returning\")\n",
    "        return a\n",
    "    # blanks in the middle\n",
    "    denominator = 1\n",
    "    positionFlag = 0\n",
    "    flag = 0 \n",
    "    #added flag new\n",
    "    #print(\" \")\n",
    "    #print(\" \")\n",
    "    #print(\" \")\n",
    "    for k in range(middle_store + 1, len(a)):\n",
    "        if a[k] != '_':\n",
    "            #print(\"a[k] \" + a[k])\n",
    "            #print(\"middle_store \" , middle_store)\n",
    "            #print(\"k \" ,k)\n",
    "           # denominator = (k + 1 - middle_store)\n",
    "            denominator = denominator + 1;\n",
    "            #print(\"denominator break \" , denominator)\n",
    "            positionFlag = k\n",
    "            #print(\"positionFlag \" , positionFlag)\n",
    "            flag = float(a[k] ) #flag is value of number found\n",
    "            #print(\"flag \" , flag)\n",
    "            #flag_value = float(a[flag])\n",
    "            #print(\"flag \" , flag)\n",
    "            break\n",
    "        else:\n",
    "             denominator = denominator + 1;\n",
    "             #print(\"denominator else\" , denominator)\n",
    "   # print(\"flag-\" , flag)\n",
    "    #flag_value = float(a[flag])\n",
    "   # print(\"flag_value \", flag_value)\n",
    "   \n",
    "    \n",
    "    \n",
    "    #print(\"end M\")\n",
    "    #print(\"start M1\")\n",
    "    #print(\"flag here : \" ,flag)\n",
    "\n",
    "    if(flag ==0):\n",
    "        positionFlag= denominator-1\n",
    "        #print(\"flag value found not changed\",flag)\n",
    "        #print(\"position flag set to denominator val\",positionFlag)\n",
    "       \n",
    "    else:\n",
    "        print(\"flag value found \" ,  flag)\n",
    "        \n",
    "    midfillval = (middle_store_value+ flag)/denominator\n",
    "    #print(\"midfillval \" , midfillval)\n",
    "    positionFlaglength = positionFlag + 1;\n",
    "    for p in range(middle_store, positionFlaglength):\n",
    "         #print(\"middle_store \" , middle_store)\n",
    "         #print(\"positionFlag \" , positionFlag)\n",
    "         a[p] = str((middle_store_value+flag) / denominator)\n",
    "         \n",
    "    #print(\"a[p] \" , a[p])\n",
    "    #print(\"a here\" , a)\n",
    "    \n",
    "    if(len(a)-1==positionFlag):\n",
    "        #print(\"returning a sec \" ,a)\n",
    "        return a\n",
    "  \n",
    "    #print(\"end M1\")\n",
    "    # blanks at the right\n",
    "    #last_value = float(a[flag])\n",
    "    last_value = float(a[positionFlag])\n",
    "    #print(\"last_value \" , last_value)\n",
    "    for q in range(positionFlag, len(a)):\n",
    "         #print(\"last_value:\" , last_value)\n",
    "         #print(\"len(a):\" , len(a))\n",
    "         #print(\"positionFlag:\" , positionFlag)\n",
    "         a[q] = str(last_value / (len(a) - positionFlag))\n",
    "       \n",
    "         #print(\" a[q] :\" ,  a[q] )\n",
    "         \n",
    "    #print(\" returning :\" ,  a )     \n",
    "    return a\n",
    "\n",
    "S1=   \"_,_,_,24\"\n",
    "S2= \"40,_,_,_,60\"\n",
    "S3= \"80,_,_,_,_\"\n",
    "S4= \"_,_,30,_,_,_,50,_,_\"\n",
    "print(blanks(S1))\n",
    "print(blanks(S2))\n",
    "print(blanks(S3))\n",
    "print(blanks(S4))"
   ]
  },
  {
   "cell_type": "markdown",
   "metadata": {},
   "source": [
    "Q8: Find the probabilities\n",
    "You will be given a list of lists, each sublist will be of length 2 i.e. [[x,y],[p,q],[l,m]..[r,s]] consider its like a martrix of n rows and two columns\n",
    "The first column F will contain only 5 uniques values (F1, F2, F3, F4, F5)\n",
    "The second column S will contain only 3 uniques values (S1, S2, S3)\n",
    "your task is to find\n",
    "a. Probability of P(F=F1|S==S1), P(F=F1|S==S2), P(F=F1|S==S3)\n",
    "b. Probability of P(F=F2|S==S1), P(F=F2|S==S2), P(F=F2|S==S3)\n",
    "c. Probability of P(F=F3|S==S1), P(F=F3|S==S2), P(F=F3|S==S3)\n",
    "d. Probability of P(F=F4|S==S1), P(F=F4|S==S2), P(F=F4|S==S3)\n",
    "e. Probability of P(F=F5|S==S1), P(F=F5|S==S2), P(F=F5|S==S3)\n",
    "Ex:\n",
    "[[F1,S1],[F2,S2],[F3,S3],[F1,S2],[F2,S3],[F3,S2],[F2,S1],[F4,S1],[F4,S3],[F5,S1]]\n",
    "\n",
    "a. P(F=F1|S==S1)=1/4, P(F=F1|S==S2)=1/3, P(F=F1|S==S3)=0/3\n",
    "b. P(F=F2|S==S1)=1/4, P(F=F2|S==S2)=1/3, P(F=F2|S==S3)=1/3\n",
    "c. P(F=F3|S==S1)=0/4, P(F=F3|S==S2)=1/3, P(F=F3|S==S3)=1/3\n",
    "d. P(F=F4|S==S1)=1/4, P(F=F4|S==S2)=0/3, P(F=F4|S==S3)=1/3\n",
    "e. P(F=F5|S==S1)=1/4, P(F=F5|S==S2)=0/3, P(F=F5|S==S3)=0/3"
   ]
  },
  {
   "cell_type": "code",
   "execution_count": 7,
   "metadata": {},
   "outputs": [
    {
     "name": "stdout",
     "output_type": "stream",
     "text": [
      "P(F=F1|S==S1)= 1/4\n",
      "P(F=F1|S==S2)= 1/3\n",
      "P(F=F1|S==S3)= 0\n",
      "P(F=F2|S==S1)= 1/4\n",
      "P(F=F2|S==S2)= 1/3\n",
      "P(F=F2|S==S3)= 1/3\n",
      "P(F=F3|S==S1)= 0\n",
      "P(F=F3|S==S2)= 1/3\n",
      "P(F=F3|S==S3)= 1/3\n",
      "P(F=F4|S==S1)= 1/4\n",
      "P(F=F4|S==S2)= 0\n",
      "P(F=F4|S==S3)= 1/3\n",
      "P(F=F5|S==S1)= 1/4\n",
      "P(F=F5|S==S2)= 0\n",
      "P(F=F5|S==S3)= 0\n"
     ]
    }
   ],
   "source": [
    "#Reference:-https://stackoverflow.com/questions/57160252/find-conditional-probabilities-using-python\n",
    "A = [['F1','S1'],['F2','S2'],['F3','S3'],['F1','S2'],['F2','S3'],['F3','S2'],['F2','S1'],['F4','S1'],['F4','S3'],['F5','S1']]\n",
    "from fractions import Fraction\n",
    "def values(F,S):\n",
    "    num=0\n",
    "    den=0\n",
    "    for i in range(len(A)):\n",
    "        if(A[i][1]==S):\n",
    "            den=den+1\n",
    "            if(A[i][0]==F):\n",
    "               num=num+1\n",
    "    print('P(F={}|S=={})='.format(F,S), Fraction(num,den))\n",
    "for k in ['F1', 'F2', 'F3', 'F4', 'F5']:\n",
    "    for m in ['S1', 'S2', 'S3']:\n",
    "        values(k,m)"
   ]
  },
  {
   "cell_type": "markdown",
   "metadata": {},
   "source": [
    "Q9: Operations on sentences \n",
    "You will be given two sentances S1, S2 your task is to find \n",
    "a. Number of common words between S1, S2\n",
    "b. Words in S1 but not in S2\n",
    "c. Words in S2 but not in S1\n",
    "Ex: \n",
    "S1= \"the first column F will contain only 5 unique values\"\n",
    "S2= \"the second column S will contain only 3 unique values\"\n",
    "Output:\n",
    "a. 7\n",
    "b. ['first','F','5']\n",
    "c. ['second','S','3']"
   ]
  },
  {
   "cell_type": "code",
   "execution_count": 9,
   "metadata": {},
   "outputs": [
    {
     "name": "stdout",
     "output_type": "stream",
     "text": [
      "Common Words Between Two Strings S1 & S2 are:  7\n",
      "Words in S1 but not in S1 are:  {'F', '5', 'first'}\n",
      "Words in S1 but not in S1 are:  {'3', 'S', 'second'}\n"
     ]
    }
   ],
   "source": [
    "S1= \"the first column F will contain only 5 unique values\"\n",
    "S2= \"the second column S will contain only 3 unique values\"\n",
    "S1_Words=set(S1.split())\n",
    "S2_Words=set(S2.split())\n",
    "#find out common words using Set intersection\n",
    "common=S1_Words & S2_Words\n",
    "print(\"Common Words Between Two Strings S1 & S2 are: \" , len(common))\n",
    "\n",
    "#Set difference to find out Words in S1 but not in S2\n",
    "Words_in_S1=S1_Words-S2_Words\n",
    "print(\"Words in S1 but not in S1 are: \", Words_in_S1)\n",
    "\n",
    "#Set difference to find out Words in S2 but not in S1\n",
    "Words_in_S2=S2_Words-S1_Words\n",
    "print(\"Words in S1 but not in S1 are: \", Words_in_S2)"
   ]
  },
  {
   "cell_type": "markdown",
   "metadata": {},
   "source": [
    "Q10: Error Function\n",
    "You will be given a list of lists, each sublist will be of length 2 i.e. [[x,y],[p,q],[l,m]..[r,s]] consider its like a martrix of n rows and two columns\n",
    "a. the first column Y will contain interger values \n",
    "b. the second column \n",
    "Y\n",
    "score\n",
    "Yscore\n",
    "will be having float values \n",
    "Your task is to find the value of \n",
    "\n",
    "f(Y,Yscore)=−1∗1/nΣforeachY,Yscorepair(Ylog10(Yscore)+(1−Y)log10(1−Yscore))\n",
    "here n is the number of rows in the matrix\n",
    "Ex:\n",
    "[[1, 0.4], [0, 0.5], [0, 0.9], [0, 0.3], [0, 0.6], [1, 0.1], [1, 0.9], [1, 0.8]]\n",
    "output:\n",
    "0.44982"
   ]
  },
  {
   "cell_type": "code",
   "execution_count": 10,
   "metadata": {},
   "outputs": [
    {
     "name": "stdout",
     "output_type": "stream",
     "text": [
      "[1, 0, 0, 0, 0, 1, 1, 1]\n",
      "[0.4, 0.5, 0.9, 0.3, 0.6, 0.1, 0.9, 0.8]\n",
      "0.42430993457031635\n"
     ]
    }
   ],
   "source": [
    "import math\n",
    "S=[[1, 0.4], [0, 0.5], [0, 0.9], [0, 0.3], [0, 0.6], [1, 0.1], [1, 0.9], [1, 0.8]]\n",
    "n=len(S)\n",
    "Y=[int(S1[0]) for S1 in S]\n",
    "Ys=[(S1[1]) for S1 in S]\n",
    "print(Y)\n",
    "print(Ys)\n",
    "loss=0\n",
    "for (i,j) in zip(Y, Ys):\n",
    "    loss= loss + ((-1)*(1/n)*((i*math.log10(j))+((1-(i))*math.log10(1-(j)))))\n",
    "print(loss)"
   ]
  },
  {
   "cell_type": "code",
   "execution_count": null,
   "metadata": {},
   "outputs": [],
   "source": []
  }
 ],
 "metadata": {
  "kernelspec": {
   "display_name": "Python 3",
   "language": "python",
   "name": "python3"
  },
  "language_info": {
   "codemirror_mode": {
    "name": "ipython",
    "version": 3
   },
   "file_extension": ".py",
   "mimetype": "text/x-python",
   "name": "python",
   "nbconvert_exporter": "python",
   "pygments_lexer": "ipython3",
   "version": "3.7.0"
  }
 },
 "nbformat": 4,
 "nbformat_minor": 2
}
